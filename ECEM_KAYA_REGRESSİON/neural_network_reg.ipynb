{
 "cells": [
  {
   "cell_type": "code",
   "execution_count": 2,
   "id": "dd3324dd",
   "metadata": {},
   "outputs": [],
   "source": [
    "import pandas as pd\n",
    "data = pd.read_excel(r'C:\\Users\\hp\\OneDrive\\Masaüstü\\kanada verisi.xlsx')\n",
    "data_df = pd.DataFrame(data)"
   ]
  },
  {
   "cell_type": "code",
   "execution_count": 3,
   "id": "d78a9f1b",
   "metadata": {},
   "outputs": [
    {
     "data": {
      "text/html": [
       "<div>\n",
       "<style scoped>\n",
       "    .dataframe tbody tr th:only-of-type {\n",
       "        vertical-align: middle;\n",
       "    }\n",
       "\n",
       "    .dataframe tbody tr th {\n",
       "        vertical-align: top;\n",
       "    }\n",
       "\n",
       "    .dataframe thead th {\n",
       "        text-align: right;\n",
       "    }\n",
       "</style>\n",
       "<table border=\"1\" class=\"dataframe\">\n",
       "  <thead>\n",
       "    <tr style=\"text-align: right;\">\n",
       "      <th></th>\n",
       "      <th>City</th>\n",
       "      <th>Price</th>\n",
       "      <th>Address</th>\n",
       "      <th>Number_Beds</th>\n",
       "      <th>Number_Baths</th>\n",
       "      <th>Province</th>\n",
       "      <th>Population</th>\n",
       "      <th>Latitude</th>\n",
       "      <th>Longitude</th>\n",
       "      <th>Median_Family_Income</th>\n",
       "    </tr>\n",
       "  </thead>\n",
       "  <tbody>\n",
       "    <tr>\n",
       "      <th>0</th>\n",
       "      <td>Toronto</td>\n",
       "      <td>779900.0</td>\n",
       "      <td>#318 -20 SOUTHPORT ST</td>\n",
       "      <td>3</td>\n",
       "      <td>2</td>\n",
       "      <td>Ontario</td>\n",
       "      <td>5647656</td>\n",
       "      <td>43.7417</td>\n",
       "      <td>-79.3733</td>\n",
       "      <td>97000</td>\n",
       "    </tr>\n",
       "    <tr>\n",
       "      <th>1</th>\n",
       "      <td>Toronto</td>\n",
       "      <td>799999.0</td>\n",
       "      <td>#818 -60 SOUTHPORT ST</td>\n",
       "      <td>3</td>\n",
       "      <td>1</td>\n",
       "      <td>Ontario</td>\n",
       "      <td>5647656</td>\n",
       "      <td>43.7417</td>\n",
       "      <td>-79.3733</td>\n",
       "      <td>97000</td>\n",
       "    </tr>\n",
       "    <tr>\n",
       "      <th>2</th>\n",
       "      <td>Toronto</td>\n",
       "      <td>799900.0</td>\n",
       "      <td>#714 -859 THE QUEENSWAY</td>\n",
       "      <td>2</td>\n",
       "      <td>2</td>\n",
       "      <td>Ontario</td>\n",
       "      <td>5647656</td>\n",
       "      <td>43.7417</td>\n",
       "      <td>-79.3733</td>\n",
       "      <td>97000</td>\n",
       "    </tr>\n",
       "    <tr>\n",
       "      <th>3</th>\n",
       "      <td>Toronto</td>\n",
       "      <td>1200000.0</td>\n",
       "      <td>275 MORTIMER AVE</td>\n",
       "      <td>4</td>\n",
       "      <td>2</td>\n",
       "      <td>Ontario</td>\n",
       "      <td>5647656</td>\n",
       "      <td>43.7417</td>\n",
       "      <td>-79.3733</td>\n",
       "      <td>97000</td>\n",
       "    </tr>\n",
       "    <tr>\n",
       "      <th>4</th>\n",
       "      <td>Toronto</td>\n",
       "      <td>668800.0</td>\n",
       "      <td>#420 -388 RICHMOND ST</td>\n",
       "      <td>1</td>\n",
       "      <td>1</td>\n",
       "      <td>Ontario</td>\n",
       "      <td>5647656</td>\n",
       "      <td>43.7417</td>\n",
       "      <td>-79.3733</td>\n",
       "      <td>97000</td>\n",
       "    </tr>\n",
       "  </tbody>\n",
       "</table>\n",
       "</div>"
      ],
      "text/plain": [
       "      City      Price                  Address  Number_Beds  Number_Baths  \\\n",
       "0  Toronto   779900.0    #318 -20 SOUTHPORT ST            3             2   \n",
       "1  Toronto   799999.0    #818 -60 SOUTHPORT ST            3             1   \n",
       "2  Toronto   799900.0  #714 -859 THE QUEENSWAY            2             2   \n",
       "3  Toronto  1200000.0         275 MORTIMER AVE            4             2   \n",
       "4  Toronto   668800.0    #420 -388 RICHMOND ST            1             1   \n",
       "\n",
       "  Province  Population  Latitude  Longitude  Median_Family_Income  \n",
       "0  Ontario     5647656   43.7417   -79.3733                 97000  \n",
       "1  Ontario     5647656   43.7417   -79.3733                 97000  \n",
       "2  Ontario     5647656   43.7417   -79.3733                 97000  \n",
       "3  Ontario     5647656   43.7417   -79.3733                 97000  \n",
       "4  Ontario     5647656   43.7417   -79.3733                 97000  "
      ]
     },
     "execution_count": 3,
     "metadata": {},
     "output_type": "execute_result"
    }
   ],
   "source": [
    "data_df.head()"
   ]
  },
  {
   "cell_type": "code",
   "execution_count": 4,
   "id": "180d269c",
   "metadata": {},
   "outputs": [
    {
     "name": "stdout",
     "output_type": "stream",
     "text": [
      "          City      Price  Number_Beds  Number_Baths     Province  Population  \\\n",
      "0      Toronto   779900.0            3             2      Ontario     5647656   \n",
      "1      Toronto   799999.0            3             1      Ontario     5647656   \n",
      "2      Toronto   799900.0            2             2      Ontario     5647656   \n",
      "3      Toronto  1200000.0            4             2      Ontario     5647656   \n",
      "4      Toronto   668800.0            1             1      Ontario     5647656   \n",
      "...        ...        ...          ...           ...          ...         ...   \n",
      "35763  Halifax   439900.0            2             2  Nova Scotia      431479   \n",
      "35764  Halifax  6990000.0            5             5  Nova Scotia      431479   \n",
      "35765  Halifax   419900.0            2             2  Nova Scotia      431479   \n",
      "35766  Halifax   949900.0            3             1  Nova Scotia      431479   \n",
      "35767  Halifax   592900.0            2             1  Nova Scotia      431479   \n",
      "\n",
      "       Latitude  Longitude  Median_Family_Income  \n",
      "0       43.7417   -79.3733                 97000  \n",
      "1       43.7417   -79.3733                 97000  \n",
      "2       43.7417   -79.3733                 97000  \n",
      "3       43.7417   -79.3733                 97000  \n",
      "4       43.7417   -79.3733                 97000  \n",
      "...         ...        ...                   ...  \n",
      "35763   44.8857    63.1005                 86753  \n",
      "35764   44.8857    63.1005                 86753  \n",
      "35765   44.8857    63.1005                 86753  \n",
      "35766   44.8857    63.1005                 86753  \n",
      "35767   44.8857    63.1005                 86753  \n",
      "\n",
      "[35768 rows x 9 columns]\n"
     ]
    }
   ],
   "source": [
    "data_df.drop('Address', axis=1, inplace=True)\n",
    "print(data_df)"
   ]
  },
  {
   "cell_type": "code",
   "execution_count": 5,
   "id": "46a032a8",
   "metadata": {},
   "outputs": [
    {
     "name": "stdout",
     "output_type": "stream",
     "text": [
      "-1.0\n",
      "7.0\n"
     ]
    }
   ],
   "source": [
    "Q1 = data_df['Number_Beds'].quantile(0.25)\n",
    "Q3 = data_df['Number_Beds'].quantile(0.75)\n",
    "IQR = Q3 - Q1\n",
    "alt_sinir = Q1 - 1.5*IQR\n",
    "ust_sinir = Q3 + 1.5*IQR\n",
    "print(alt_sinir)\n",
    "print(ust_sinir)"
   ]
  },
  {
   "cell_type": "code",
   "execution_count": 6,
   "id": "f7556c85",
   "metadata": {},
   "outputs": [
    {
     "name": "stdout",
     "output_type": "stream",
     "text": [
      "          City      Price  Number_Beds  Number_Baths     Province  Population  \\\n",
      "0      Toronto   779900.0            3             2      Ontario     5647656   \n",
      "1      Toronto   799999.0            3             1      Ontario     5647656   \n",
      "2      Toronto   799900.0            2             2      Ontario     5647656   \n",
      "3      Toronto  1200000.0            4             2      Ontario     5647656   \n",
      "4      Toronto   668800.0            1             1      Ontario     5647656   \n",
      "...        ...        ...          ...           ...          ...         ...   \n",
      "35763  Halifax   439900.0            2             2  Nova Scotia      431479   \n",
      "35764  Halifax  6990000.0            5             5  Nova Scotia      431479   \n",
      "35765  Halifax   419900.0            2             2  Nova Scotia      431479   \n",
      "35766  Halifax   949900.0            3             1  Nova Scotia      431479   \n",
      "35767  Halifax   592900.0            2             1  Nova Scotia      431479   \n",
      "\n",
      "       Latitude  Longitude  Median_Family_Income  \n",
      "0       43.7417   -79.3733                 97000  \n",
      "1       43.7417   -79.3733                 97000  \n",
      "2       43.7417   -79.3733                 97000  \n",
      "3       43.7417   -79.3733                 97000  \n",
      "4       43.7417   -79.3733                 97000  \n",
      "...         ...        ...                   ...  \n",
      "35763   44.8857    63.1005                 86753  \n",
      "35764   44.8857    63.1005                 86753  \n",
      "35765   44.8857    63.1005                 86753  \n",
      "35766   44.8857    63.1005                 86753  \n",
      "35767   44.8857    63.1005                 86753  \n",
      "\n",
      "[35323 rows x 9 columns]\n"
     ]
    }
   ],
   "source": [
    "clean_data1 = data_df[(data_df['Number_Beds'] >= alt_sinir) & (data_df['Number_Beds'] <= ust_sinir)]\n",
    "print(clean_data1)"
   ]
  },
  {
   "cell_type": "code",
   "execution_count": 7,
   "id": "23dc11ec",
   "metadata": {},
   "outputs": [
    {
     "name": "stdout",
     "output_type": "stream",
     "text": [
      "0.5\n",
      "4.5\n"
     ]
    }
   ],
   "source": [
    "Q1 = data_df['Number_Baths'].quantile(0.25)\n",
    "Q3 = data_df['Number_Baths'].quantile(0.75)\n",
    "IQR = Q3 - Q1\n",
    "alt_sinir = Q1 - 1.5*IQR\n",
    "ust_sinir = Q3 + 1.5*IQR\n",
    "print(alt_sinir)\n",
    "print(ust_sinir)"
   ]
  },
  {
   "cell_type": "code",
   "execution_count": 8,
   "id": "9ff25598",
   "metadata": {},
   "outputs": [
    {
     "name": "stdout",
     "output_type": "stream",
     "text": [
      "          City      Price  Number_Beds  Number_Baths     Province  Population  \\\n",
      "0      Toronto   779900.0            3             2      Ontario     5647656   \n",
      "1      Toronto   799999.0            3             1      Ontario     5647656   \n",
      "2      Toronto   799900.0            2             2      Ontario     5647656   \n",
      "3      Toronto  1200000.0            4             2      Ontario     5647656   \n",
      "4      Toronto   668800.0            1             1      Ontario     5647656   \n",
      "...        ...        ...          ...           ...          ...         ...   \n",
      "35762  Halifax   580000.0            3             1  Nova Scotia      431479   \n",
      "35763  Halifax   439900.0            2             2  Nova Scotia      431479   \n",
      "35765  Halifax   419900.0            2             2  Nova Scotia      431479   \n",
      "35766  Halifax   949900.0            3             1  Nova Scotia      431479   \n",
      "35767  Halifax   592900.0            2             1  Nova Scotia      431479   \n",
      "\n",
      "       Latitude  Longitude  Median_Family_Income  \n",
      "0       43.7417   -79.3733                 97000  \n",
      "1       43.7417   -79.3733                 97000  \n",
      "2       43.7417   -79.3733                 97000  \n",
      "3       43.7417   -79.3733                 97000  \n",
      "4       43.7417   -79.3733                 97000  \n",
      "...         ...        ...                   ...  \n",
      "35762   44.8857    63.1005                 86753  \n",
      "35763   44.8857    63.1005                 86753  \n",
      "35765   44.8857    63.1005                 86753  \n",
      "35766   44.8857    63.1005                 86753  \n",
      "35767   44.8857    63.1005                 86753  \n",
      "\n",
      "[32952 rows x 9 columns]\n"
     ]
    }
   ],
   "source": [
    "clean_data2 = clean_data1[(clean_data1['Number_Baths'] >= alt_sinir) & (clean_data1['Number_Baths'] <= ust_sinir)]\n",
    "print(clean_data2)"
   ]
  },
  {
   "cell_type": "code",
   "execution_count": 9,
   "id": "726aa8e5",
   "metadata": {},
   "outputs": [
    {
     "name": "stdout",
     "output_type": "stream",
     "text": [
      "-492750.0\n",
      "2047650.0\n"
     ]
    }
   ],
   "source": [
    "Q1 = data_df['Price'].quantile(0.25)\n",
    "Q3 = data_df['Price'].quantile(0.75)\n",
    "IQR = Q3 - Q1\n",
    "alt_sinir = Q1 - 1.5*IQR\n",
    "ust_sinir = Q3 + 1.5*IQR\n",
    "print(alt_sinir)\n",
    "print(ust_sinir)"
   ]
  },
  {
   "cell_type": "code",
   "execution_count": 10,
   "id": "8dd745f6",
   "metadata": {},
   "outputs": [
    {
     "name": "stdout",
     "output_type": "stream",
     "text": [
      "          City      Price  Number_Beds  Number_Baths     Province  Population  \\\n",
      "0      Toronto   779900.0            3             2      Ontario     5647656   \n",
      "1      Toronto   799999.0            3             1      Ontario     5647656   \n",
      "2      Toronto   799900.0            2             2      Ontario     5647656   \n",
      "3      Toronto  1200000.0            4             2      Ontario     5647656   \n",
      "4      Toronto   668800.0            1             1      Ontario     5647656   \n",
      "...        ...        ...          ...           ...          ...         ...   \n",
      "35762  Halifax   580000.0            3             1  Nova Scotia      431479   \n",
      "35763  Halifax   439900.0            2             2  Nova Scotia      431479   \n",
      "35765  Halifax   419900.0            2             2  Nova Scotia      431479   \n",
      "35766  Halifax   949900.0            3             1  Nova Scotia      431479   \n",
      "35767  Halifax   592900.0            2             1  Nova Scotia      431479   \n",
      "\n",
      "       Latitude  Longitude  Median_Family_Income  \n",
      "0       43.7417   -79.3733                 97000  \n",
      "1       43.7417   -79.3733                 97000  \n",
      "2       43.7417   -79.3733                 97000  \n",
      "3       43.7417   -79.3733                 97000  \n",
      "4       43.7417   -79.3733                 97000  \n",
      "...         ...        ...                   ...  \n",
      "35762   44.8857    63.1005                 86753  \n",
      "35763   44.8857    63.1005                 86753  \n",
      "35765   44.8857    63.1005                 86753  \n",
      "35766   44.8857    63.1005                 86753  \n",
      "35767   44.8857    63.1005                 86753  \n",
      "\n",
      "[31545 rows x 9 columns]\n"
     ]
    }
   ],
   "source": [
    "clean_data3 = clean_data2[(clean_data2['Price'] >= alt_sinir) & (clean_data2['Price'] <= ust_sinir)]\n",
    "print(clean_data3)"
   ]
  },
  {
   "cell_type": "code",
   "execution_count": 11,
   "id": "983d704b",
   "metadata": {},
   "outputs": [
    {
     "name": "stdout",
     "output_type": "stream",
     "text": [
      "           Price  Number_Beds  Number_Baths  Population  Latitude  Longitude  \\\n",
      "0       779900.0            3             2     5647656   43.7417   -79.3733   \n",
      "1       799999.0            3             1     5647656   43.7417   -79.3733   \n",
      "2       799900.0            2             2     5647656   43.7417   -79.3733   \n",
      "3      1200000.0            4             2     5647656   43.7417   -79.3733   \n",
      "4       668800.0            1             1     5647656   43.7417   -79.3733   \n",
      "...          ...          ...           ...         ...       ...        ...   \n",
      "35762   580000.0            3             1      431479   44.8857    63.1005   \n",
      "35763   439900.0            2             2      431479   44.8857    63.1005   \n",
      "35765   419900.0            2             2      431479   44.8857    63.1005   \n",
      "35766   949900.0            3             1      431479   44.8857    63.1005   \n",
      "35767   592900.0            2             1      431479   44.8857    63.1005   \n",
      "\n",
      "       Median_Family_Income  City_Abbotsford  City_Airdrie  City_Barrie  ...  \\\n",
      "0                     97000                0             0            0  ...   \n",
      "1                     97000                0             0            0  ...   \n",
      "2                     97000                0             0            0  ...   \n",
      "3                     97000                0             0            0  ...   \n",
      "4                     97000                0             0            0  ...   \n",
      "...                     ...              ...           ...          ...  ...   \n",
      "35762                 86753                0             0            0  ...   \n",
      "35763                 86753                0             0            0  ...   \n",
      "35765                 86753                0             0            0  ...   \n",
      "35766                 86753                0             0            0  ...   \n",
      "35767                 86753                0             0            0  ...   \n",
      "\n",
      "       City_Winnipeg  Province_Alberta  Province_British Columbia  \\\n",
      "0                  0                 0                          0   \n",
      "1                  0                 0                          0   \n",
      "2                  0                 0                          0   \n",
      "3                  0                 0                          0   \n",
      "4                  0                 0                          0   \n",
      "...              ...               ...                        ...   \n",
      "35762              0                 0                          0   \n",
      "35763              0                 0                          0   \n",
      "35765              0                 0                          0   \n",
      "35766              0                 0                          0   \n",
      "35767              0                 0                          0   \n",
      "\n",
      "       Province_Manitoba  Province_New Brunswick  \\\n",
      "0                      0                       0   \n",
      "1                      0                       0   \n",
      "2                      0                       0   \n",
      "3                      0                       0   \n",
      "4                      0                       0   \n",
      "...                  ...                     ...   \n",
      "35762                  0                       0   \n",
      "35763                  0                       0   \n",
      "35765                  0                       0   \n",
      "35766                  0                       0   \n",
      "35767                  0                       0   \n",
      "\n",
      "       Province_Newfoundland and Labrador  Province_Nova Scotia  \\\n",
      "0                                       0                     0   \n",
      "1                                       0                     0   \n",
      "2                                       0                     0   \n",
      "3                                       0                     0   \n",
      "4                                       0                     0   \n",
      "...                                   ...                   ...   \n",
      "35762                                   0                     1   \n",
      "35763                                   0                     1   \n",
      "35765                                   0                     1   \n",
      "35766                                   0                     1   \n",
      "35767                                   0                     1   \n",
      "\n",
      "       Province_Ontario  Province_Quebec  Province_Saskatchewan  \n",
      "0                     1                0                      0  \n",
      "1                     1                0                      0  \n",
      "2                     1                0                      0  \n",
      "3                     1                0                      0  \n",
      "4                     1                0                      0  \n",
      "...                 ...              ...                    ...  \n",
      "35762                 0                0                      0  \n",
      "35763                 0                0                      0  \n",
      "35765                 0                0                      0  \n",
      "35766                 0                0                      0  \n",
      "35767                 0                0                      0  \n",
      "\n",
      "[31545 rows x 61 columns]\n"
     ]
    }
   ],
   "source": [
    "data_encoded = pd.get_dummies(clean_data3, columns=['City','Province'])\n",
    "print(data_encoded)"
   ]
  },
  {
   "cell_type": "code",
   "execution_count": 12,
   "id": "3a4603b7",
   "metadata": {},
   "outputs": [],
   "source": [
    "from sklearn.neural_network import MLPRegressor\n",
    "from sklearn.model_selection import train_test_split\n",
    "from sklearn.preprocessing import StandardScaler\n",
    "from sklearn.metrics import mean_squared_error\n",
    "import numpy as np\n"
   ]
  },
  {
   "cell_type": "code",
   "execution_count": 13,
   "id": "29346560",
   "metadata": {},
   "outputs": [
    {
     "data": {
      "text/html": [
       "<div>\n",
       "<style scoped>\n",
       "    .dataframe tbody tr th:only-of-type {\n",
       "        vertical-align: middle;\n",
       "    }\n",
       "\n",
       "    .dataframe tbody tr th {\n",
       "        vertical-align: top;\n",
       "    }\n",
       "\n",
       "    .dataframe thead th {\n",
       "        text-align: right;\n",
       "    }\n",
       "</style>\n",
       "<table border=\"1\" class=\"dataframe\">\n",
       "  <thead>\n",
       "    <tr style=\"text-align: right;\">\n",
       "      <th></th>\n",
       "      <th>Price</th>\n",
       "    </tr>\n",
       "  </thead>\n",
       "  <tbody>\n",
       "    <tr>\n",
       "      <th>0</th>\n",
       "      <td>779900.0</td>\n",
       "    </tr>\n",
       "    <tr>\n",
       "      <th>1</th>\n",
       "      <td>799999.0</td>\n",
       "    </tr>\n",
       "    <tr>\n",
       "      <th>2</th>\n",
       "      <td>799900.0</td>\n",
       "    </tr>\n",
       "    <tr>\n",
       "      <th>3</th>\n",
       "      <td>1200000.0</td>\n",
       "    </tr>\n",
       "    <tr>\n",
       "      <th>4</th>\n",
       "      <td>668800.0</td>\n",
       "    </tr>\n",
       "  </tbody>\n",
       "</table>\n",
       "</div>"
      ],
      "text/plain": [
       "       Price\n",
       "0   779900.0\n",
       "1   799999.0\n",
       "2   799900.0\n",
       "3  1200000.0\n",
       "4   668800.0"
      ]
     },
     "execution_count": 13,
     "metadata": {},
     "output_type": "execute_result"
    }
   ],
   "source": [
    "Y = data_encoded[['Price']]\n",
    "Y.head()"
   ]
  },
  {
   "cell_type": "code",
   "execution_count": 14,
   "id": "9ac65b26",
   "metadata": {},
   "outputs": [],
   "source": [
    "from sklearn.preprocessing import StandardScaler\n",
    "\n",
    "# Z-score normalizasyonu için StandardScaler sınıfını kullanma\n",
    "scaler = StandardScaler()\n",
    "Y_standardized = scaler.fit_transform(Y)"
   ]
  },
  {
   "cell_type": "code",
   "execution_count": 15,
   "id": "ec98135a",
   "metadata": {},
   "outputs": [
    {
     "name": "stdout",
     "output_type": "stream",
     "text": [
      "       Number_Beds  Number_Baths  Population  Latitude  Longitude  \\\n",
      "0                3             2     5647656   43.7417   -79.3733   \n",
      "1                3             1     5647656   43.7417   -79.3733   \n",
      "2                2             2     5647656   43.7417   -79.3733   \n",
      "3                4             2     5647656   43.7417   -79.3733   \n",
      "4                1             1     5647656   43.7417   -79.3733   \n",
      "...            ...           ...         ...       ...        ...   \n",
      "35762            3             1      431479   44.8857    63.1005   \n",
      "35763            2             2      431479   44.8857    63.1005   \n",
      "35765            2             2      431479   44.8857    63.1005   \n",
      "35766            3             1      431479   44.8857    63.1005   \n",
      "35767            2             1      431479   44.8857    63.1005   \n",
      "\n",
      "       Median_Family_Income  City_Abbotsford  City_Airdrie  City_Barrie  \\\n",
      "0                     97000                0             0            0   \n",
      "1                     97000                0             0            0   \n",
      "2                     97000                0             0            0   \n",
      "3                     97000                0             0            0   \n",
      "4                     97000                0             0            0   \n",
      "...                     ...              ...           ...          ...   \n",
      "35762                 86753                0             0            0   \n",
      "35763                 86753                0             0            0   \n",
      "35765                 86753                0             0            0   \n",
      "35766                 86753                0             0            0   \n",
      "35767                 86753                0             0            0   \n",
      "\n",
      "       City_Brantford  ...  City_Winnipeg  Province_Alberta  \\\n",
      "0                   0  ...              0                 0   \n",
      "1                   0  ...              0                 0   \n",
      "2                   0  ...              0                 0   \n",
      "3                   0  ...              0                 0   \n",
      "4                   0  ...              0                 0   \n",
      "...               ...  ...            ...               ...   \n",
      "35762               0  ...              0                 0   \n",
      "35763               0  ...              0                 0   \n",
      "35765               0  ...              0                 0   \n",
      "35766               0  ...              0                 0   \n",
      "35767               0  ...              0                 0   \n",
      "\n",
      "       Province_British Columbia  Province_Manitoba  Province_New Brunswick  \\\n",
      "0                              0                  0                       0   \n",
      "1                              0                  0                       0   \n",
      "2                              0                  0                       0   \n",
      "3                              0                  0                       0   \n",
      "4                              0                  0                       0   \n",
      "...                          ...                ...                     ...   \n",
      "35762                          0                  0                       0   \n",
      "35763                          0                  0                       0   \n",
      "35765                          0                  0                       0   \n",
      "35766                          0                  0                       0   \n",
      "35767                          0                  0                       0   \n",
      "\n",
      "       Province_Newfoundland and Labrador  Province_Nova Scotia  \\\n",
      "0                                       0                     0   \n",
      "1                                       0                     0   \n",
      "2                                       0                     0   \n",
      "3                                       0                     0   \n",
      "4                                       0                     0   \n",
      "...                                   ...                   ...   \n",
      "35762                                   0                     1   \n",
      "35763                                   0                     1   \n",
      "35765                                   0                     1   \n",
      "35766                                   0                     1   \n",
      "35767                                   0                     1   \n",
      "\n",
      "       Province_Ontario  Province_Quebec  Province_Saskatchewan  \n",
      "0                     1                0                      0  \n",
      "1                     1                0                      0  \n",
      "2                     1                0                      0  \n",
      "3                     1                0                      0  \n",
      "4                     1                0                      0  \n",
      "...                 ...              ...                    ...  \n",
      "35762                 0                0                      0  \n",
      "35763                 0                0                      0  \n",
      "35765                 0                0                      0  \n",
      "35766                 0                0                      0  \n",
      "35767                 0                0                      0  \n",
      "\n",
      "[31545 rows x 60 columns]\n"
     ]
    }
   ],
   "source": [
    "X = data_encoded.copy()\n",
    "X.drop('Price', axis=1, inplace=True)\n",
    "print(X)"
   ]
  },
  {
   "cell_type": "code",
   "execution_count": 16,
   "id": "2504256d",
   "metadata": {},
   "outputs": [],
   "source": [
    "from sklearn.preprocessing import StandardScaler\n",
    "scaler = StandardScaler()\n",
    "X_standardized = scaler.fit_transform(X)"
   ]
  },
  {
   "cell_type": "code",
   "execution_count": 17,
   "id": "a94071ee",
   "metadata": {},
   "outputs": [],
   "source": [
    "X_train, X_test, Y_train, Y_test = train_test_split(X_standardized, Y_standardized, test_size=0.2\n",
    "                                                    ,random_state=42, shuffle=False)"
   ]
  },
  {
   "cell_type": "code",
   "execution_count": 18,
   "id": "4d48e185",
   "metadata": {},
   "outputs": [],
   "source": [
    "neunet_reg = MLPRegressor(hidden_layer_sizes=(100,), activation='relu', solver='adam',\n",
    "                          learning_rate='constant', random_state=42)"
   ]
  },
  {
   "cell_type": "code",
   "execution_count": 19,
   "id": "8f99a373",
   "metadata": {},
   "outputs": [
    {
     "name": "stderr",
     "output_type": "stream",
     "text": [
      "C:\\Users\\hp\\anaconda3\\Lib\\site-packages\\sklearn\\neural_network\\_multilayer_perceptron.py:1625: DataConversionWarning: A column-vector y was passed when a 1d array was expected. Please change the shape of y to (n_samples, ), for example using ravel().\n",
      "  y = column_or_1d(y, warn=True)\n"
     ]
    },
    {
     "data": {
      "text/html": [
       "<style>#sk-container-id-1 {color: black;}#sk-container-id-1 pre{padding: 0;}#sk-container-id-1 div.sk-toggleable {background-color: white;}#sk-container-id-1 label.sk-toggleable__label {cursor: pointer;display: block;width: 100%;margin-bottom: 0;padding: 0.3em;box-sizing: border-box;text-align: center;}#sk-container-id-1 label.sk-toggleable__label-arrow:before {content: \"▸\";float: left;margin-right: 0.25em;color: #696969;}#sk-container-id-1 label.sk-toggleable__label-arrow:hover:before {color: black;}#sk-container-id-1 div.sk-estimator:hover label.sk-toggleable__label-arrow:before {color: black;}#sk-container-id-1 div.sk-toggleable__content {max-height: 0;max-width: 0;overflow: hidden;text-align: left;background-color: #f0f8ff;}#sk-container-id-1 div.sk-toggleable__content pre {margin: 0.2em;color: black;border-radius: 0.25em;background-color: #f0f8ff;}#sk-container-id-1 input.sk-toggleable__control:checked~div.sk-toggleable__content {max-height: 200px;max-width: 100%;overflow: auto;}#sk-container-id-1 input.sk-toggleable__control:checked~label.sk-toggleable__label-arrow:before {content: \"▾\";}#sk-container-id-1 div.sk-estimator input.sk-toggleable__control:checked~label.sk-toggleable__label {background-color: #d4ebff;}#sk-container-id-1 div.sk-label input.sk-toggleable__control:checked~label.sk-toggleable__label {background-color: #d4ebff;}#sk-container-id-1 input.sk-hidden--visually {border: 0;clip: rect(1px 1px 1px 1px);clip: rect(1px, 1px, 1px, 1px);height: 1px;margin: -1px;overflow: hidden;padding: 0;position: absolute;width: 1px;}#sk-container-id-1 div.sk-estimator {font-family: monospace;background-color: #f0f8ff;border: 1px dotted black;border-radius: 0.25em;box-sizing: border-box;margin-bottom: 0.5em;}#sk-container-id-1 div.sk-estimator:hover {background-color: #d4ebff;}#sk-container-id-1 div.sk-parallel-item::after {content: \"\";width: 100%;border-bottom: 1px solid gray;flex-grow: 1;}#sk-container-id-1 div.sk-label:hover label.sk-toggleable__label {background-color: #d4ebff;}#sk-container-id-1 div.sk-serial::before {content: \"\";position: absolute;border-left: 1px solid gray;box-sizing: border-box;top: 0;bottom: 0;left: 50%;z-index: 0;}#sk-container-id-1 div.sk-serial {display: flex;flex-direction: column;align-items: center;background-color: white;padding-right: 0.2em;padding-left: 0.2em;position: relative;}#sk-container-id-1 div.sk-item {position: relative;z-index: 1;}#sk-container-id-1 div.sk-parallel {display: flex;align-items: stretch;justify-content: center;background-color: white;position: relative;}#sk-container-id-1 div.sk-item::before, #sk-container-id-1 div.sk-parallel-item::before {content: \"\";position: absolute;border-left: 1px solid gray;box-sizing: border-box;top: 0;bottom: 0;left: 50%;z-index: -1;}#sk-container-id-1 div.sk-parallel-item {display: flex;flex-direction: column;z-index: 1;position: relative;background-color: white;}#sk-container-id-1 div.sk-parallel-item:first-child::after {align-self: flex-end;width: 50%;}#sk-container-id-1 div.sk-parallel-item:last-child::after {align-self: flex-start;width: 50%;}#sk-container-id-1 div.sk-parallel-item:only-child::after {width: 0;}#sk-container-id-1 div.sk-dashed-wrapped {border: 1px dashed gray;margin: 0 0.4em 0.5em 0.4em;box-sizing: border-box;padding-bottom: 0.4em;background-color: white;}#sk-container-id-1 div.sk-label label {font-family: monospace;font-weight: bold;display: inline-block;line-height: 1.2em;}#sk-container-id-1 div.sk-label-container {text-align: center;}#sk-container-id-1 div.sk-container {/* jupyter's `normalize.less` sets `[hidden] { display: none; }` but bootstrap.min.css set `[hidden] { display: none !important; }` so we also need the `!important` here to be able to override the default hidden behavior on the sphinx rendered scikit-learn.org. See: https://github.com/scikit-learn/scikit-learn/issues/21755 */display: inline-block !important;position: relative;}#sk-container-id-1 div.sk-text-repr-fallback {display: none;}</style><div id=\"sk-container-id-1\" class=\"sk-top-container\"><div class=\"sk-text-repr-fallback\"><pre>MLPRegressor(random_state=42)</pre><b>In a Jupyter environment, please rerun this cell to show the HTML representation or trust the notebook. <br />On GitHub, the HTML representation is unable to render, please try loading this page with nbviewer.org.</b></div><div class=\"sk-container\" hidden><div class=\"sk-item\"><div class=\"sk-estimator sk-toggleable\"><input class=\"sk-toggleable__control sk-hidden--visually\" id=\"sk-estimator-id-1\" type=\"checkbox\" checked><label for=\"sk-estimator-id-1\" class=\"sk-toggleable__label sk-toggleable__label-arrow\">MLPRegressor</label><div class=\"sk-toggleable__content\"><pre>MLPRegressor(random_state=42)</pre></div></div></div></div></div>"
      ],
      "text/plain": [
       "MLPRegressor(random_state=42)"
      ]
     },
     "execution_count": 19,
     "metadata": {},
     "output_type": "execute_result"
    }
   ],
   "source": [
    "neunet_reg.fit(X_train, Y_train)"
   ]
  },
  {
   "cell_type": "code",
   "execution_count": 20,
   "id": "907d400f",
   "metadata": {},
   "outputs": [
    {
     "name": "stdout",
     "output_type": "stream",
     "text": [
      "[-1.06758608  0.05712244 -0.52579951 ...  1.43903724  0.95140649\n",
      "  0.91671287]\n"
     ]
    }
   ],
   "source": [
    "y_tahmin = neunet_reg.predict(X_test)\n",
    "print(y_tahmin)"
   ]
  },
  {
   "cell_type": "code",
   "execution_count": 21,
   "id": "545d8395",
   "metadata": {},
   "outputs": [
    {
     "name": "stdout",
     "output_type": "stream",
     "text": [
      "0.5699914085341113\n"
     ]
    }
   ],
   "source": [
    "MSE = mean_squared_error(Y_test, y_tahmin)\n",
    "print(MSE)"
   ]
  },
  {
   "cell_type": "code",
   "execution_count": 22,
   "id": "28052802",
   "metadata": {},
   "outputs": [
    {
     "name": "stdout",
     "output_type": "stream",
     "text": [
      "R² Değeri: 0.5191910991926918\n"
     ]
    }
   ],
   "source": [
    "from sklearn.metrics import r2_score\n",
    "r2 = r2_score(Y_test, y_tahmin)\n",
    "print(\"R² Değeri:\", r2)"
   ]
  },
  {
   "cell_type": "code",
   "execution_count": 28,
   "id": "3b0cdbae",
   "metadata": {},
   "outputs": [
    {
     "name": "stdout",
     "output_type": "stream",
     "text": [
      "0.5395555028354255\n"
     ]
    }
   ],
   "source": [
    "from sklearn.metrics import mean_absolute_error\n",
    "MAE = mean_absolute_error(Y_test , y_tahmin)\n",
    "print(MAE)"
   ]
  },
  {
   "cell_type": "code",
   "execution_count": null,
   "id": "7dc25fa9",
   "metadata": {},
   "outputs": [],
   "source": []
  }
 ],
 "metadata": {
  "kernelspec": {
   "display_name": "Python 3 (ipykernel)",
   "language": "python",
   "name": "python3"
  },
  "language_info": {
   "codemirror_mode": {
    "name": "ipython",
    "version": 3
   },
   "file_extension": ".py",
   "mimetype": "text/x-python",
   "name": "python",
   "nbconvert_exporter": "python",
   "pygments_lexer": "ipython3",
   "version": "3.11.4"
  }
 },
 "nbformat": 4,
 "nbformat_minor": 5
}
